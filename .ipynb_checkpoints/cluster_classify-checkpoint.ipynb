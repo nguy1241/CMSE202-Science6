{
 "cells": [
  {
   "cell_type": "markdown",
   "id": "8a8a5898-8ae5-45fb-8064-009bf8be8c5c",
   "metadata": {},
   "source": [
    "# Can we classify open clusters and globular clusters using their B-V index and true diameter?"
   ]
  },
  {
   "cell_type": "markdown",
   "id": "321c38da-b862-46c3-a782-4611dc1e1c92",
   "metadata": {},
   "source": [
    "### Nguyen Dac Hung, Kennedy Gurski, Matthew Land, Guillerime "
   ]
  },
  {
   "cell_type": "markdown",
   "id": "d15a5f33-ea4a-4820-a9a5-737acb5c22b6",
   "metadata": {},
   "source": [
    "## Abstract\n",
    "\n",
    "A star cluster is a group of stars that is gravitationally bounded together. They can be classified into two groups, globular and open clusters. Globular clusters are made of thousands to millions of predominantly older stars held together by strong self-gravitation. Open clusters, on the other hand, are made of younger stars loosely bounded together. Because of this difference in age of stars, globular clusters tend to be more red, corresponding to a higher B-V index (the difference in magnitude of light on the blue spectrum and visible spectrum) (Archinal & Hynes, 2003). Additionally, because of the difference in gravitation, we propose that globular clusters tend to be greater in size than open clusters. Here, we created three machine learning models, a linear regression model, a logistic regression model, and a SVM classification model to see if it is viable to classify clusters with these features. Out of our three models, the SVM classification model worked the best with a 100% accuracy rate, followed by the logistic regression and linear regression models with 80.7% and 69.5% accuracy respectively. These models can be applied in future catalogs to automate the classification process. This work also provides us with a model to better understand the main differences between globular and open clusters. We showed a higher the diameter corresponds to a lower the B-V index. "
   ]
  },
  {
   "cell_type": "markdown",
   "id": "d3505e5a-4e9b-450c-8dd3-b2dbacffd274",
   "metadata": {},
   "source": [
    "Abstract text here"
   ]
  },
  {
   "cell_type": "markdown",
   "id": "84effb6d-46cb-4ae4-a8b0-88835181ad6d",
   "metadata": {},
   "source": [
    "## Introduction"
   ]
  },
  {
   "cell_type": "markdown",
   "id": "1ae0013c-e0cf-4306-b492-be9a1c02c479",
   "metadata": {},
   "source": [
    "Introduction text here"
   ]
  },
  {
   "cell_type": "markdown",
   "id": "8c5373dc-eef3-45a3-8cd1-2dbe76b7c949",
   "metadata": {},
   "source": [
    "## Imports"
   ]
  },
  {
   "cell_type": "code",
   "execution_count": 1,
   "id": "be1fcd20-0889-4a07-b581-70686b1b813b",
   "metadata": {},
   "outputs": [],
   "source": [
    "import numpy as np\n",
    "import pandas as pd\n",
    "import matplotlib.pyplot as plt\n",
    "import statsmodels.api as sm"
   ]
  },
  {
   "cell_type": "code",
   "execution_count": 2,
   "id": "accd15a3-179e-4dbd-8c5c-ec1ca23d4a9c",
   "metadata": {},
   "outputs": [],
   "source": [
    "def get_angular_size(r_h):\n",
    "\t'''Go  from half light radius to true radius, based on King (1966) model for half light radius.\n",
    "\tTakes half light radius, in arcmin, and multiply by 2.5 to get angular radius.\n",
    "\tMultiply by 2 again to get angular diameter (angular size)\n",
    "\t'''\n",
    "\treturn 2.5 * r_h * 2\n",
    "\n",
    "\n",
    "def get_true_diameter(angular_size, dist):\n",
    "\t'''Takes angular size, in arcmin, and distance from Sun, in pc,\n",
    "\tCalculates true diameter (in pc)\n",
    "\t'''\n",
    "\tdiam_rad = angular_size * (2.9089 * 10**-4) # 2.9089 * 10^-4 rad = 1 arcmin\n",
    "\treturn diam_rad * dist \n"
   ]
  },
  {
   "cell_type": "code",
   "execution_count": 3,
   "id": "10645f60-8ed4-40f1-815b-736c777d315c",
   "metadata": {
    "scrolled": true
   },
   "outputs": [
    {
     "name": "stdout",
     "output_type": "stream",
     "text": [
      "Globular Data \n",
      "\n",
      "      Cname    RA1  RA2   RA3  Dec1    Dec2   Dec3  R_sun  E(B-V)   r_h\n",
      "0    NGC104   5.67  -72   4.0  52.6  305.89 -44.89    4.5    0.04  3.17\n",
      "1    NGC288  45.24  -26  34.0  57.4  152.30 -89.38    8.9    0.03  2.23\n",
      "2    NGC362  14.26  -70  50.0  55.6  301.53 -46.25    8.6    0.05  0.82\n",
      "3  Whiting1  57.00   -3  15.0  10.0  161.22 -60.76   30.1    0.03   NaN\n",
      "4   NGC1261  16.21  -55  12.0  58.4  270.54 -52.12   16.3    0.01  2.99\n",
      "Open Data \n",
      "\n",
      "          RA     Dec  Diam  Dist Age (log years) Metallicity E(B-V)  \\\n",
      "4    00 01.7  -30 12  89.0   190            7.70        0.03   0.09   \n",
      "26   00 39.4  +85 04  13.0  1550            9.70       -0.06   0.04   \n",
      "42   01 26.1  +63 03   4.4   900            9.10       -0.76   0.90   \n",
      "60   01 54.8  +37 26  49.0   400            9.04       -0.21   0.02   \n",
      "86   02 38.8  +42 34  35.0   440            8.29       -0.26   0.04   \n",
      "..       ...     ...   ...   ...             ...         ...    ...   \n",
      "909  20 32.5  +28 08  31.0   800            9.04        0.04   0.24   \n",
      "940  21 27.6  +46 52  24.0  1400            9.20        0.03   0.27   \n",
      "948  21 44.7  +65 34   4.3  1000            9.60       -0.11   0.18   \n",
      "961  22 18.6  +57 50   5.0   900            7.60       -0.46   0.96   \n",
      "998  23 54.5  +56 27  15.0  1900            9.20       -0.10   0.27   \n",
      "\n",
      "         Cname    _RA.icrs   _DE.icrs  \n",
      "4    C0001-302  00 04 15.3  -29 55 18  \n",
      "26   C0039+850  00 44 22.5  +85 20 25  \n",
      "42   C0126+630  01 29 29.1  +63 18 29  \n",
      "60   C0154+374  01 57 46.7  +37 40 36  \n",
      "86   C0238+425  02 42 01.4  +42 46 46  \n",
      "..         ...         ...        ...  \n",
      "909  C2032+281  20 34 35.7  +28 18 22  \n",
      "940  C2127+468  21 29 25.8  +47 05 11  \n",
      "948  C2144+655  21 45 53.8  +65 47 54  \n",
      "961  C2218+578  22 20 24.5  +58 05 07  \n",
      "998  C2354+564  23 57 01.9  +56 43 42  \n",
      "\n",
      "[79 rows x 10 columns]\n"
     ]
    },
    {
     "name": "stderr",
     "output_type": "stream",
     "text": [
      "/tmp/ipykernel_2122051/2896151044.py:23: FutureWarning: The 'delim_whitespace' keyword in pd.read_csv is deprecated and will be removed in a future version. Use ``sep='\\s+'`` instead\n",
      "  glob_data1 = pd.read_csv(\"glob_data.txt\", skiprows = 72, nrows = 157, delim_whitespace = True, header = None)\n",
      "/tmp/ipykernel_2122051/2896151044.py:24: FutureWarning: The 'delim_whitespace' keyword in pd.read_csv is deprecated and will be removed in a future version. Use ``sep='\\s+'`` instead\n",
      "  glob_data2 = pd.read_csv(\"glob_data.txt\", skiprows = 252, nrows = 157, delim_whitespace = True, header = None)\n",
      "/tmp/ipykernel_2122051/2896151044.py:25: FutureWarning: The 'delim_whitespace' keyword in pd.read_csv is deprecated and will be removed in a future version. Use ``sep='\\s+'`` instead\n",
      "  glob_data3 = pd.read_csv(\"glob_data.txt\", skiprows = 433, nrows = 157, delim_whitespace = True, header = None)\n",
      "/tmp/ipykernel_2122051/2896151044.py:39: FutureWarning: DataFrame.applymap has been deprecated. Use DataFrame.map instead.\n",
      "  open_data = open_data.applymap(lambda x: x.strip() if isinstance(x, str) else x)  # Remove leading/trailing spaces\n"
     ]
    }
   ],
   "source": [
    "## Functions to calculate diameter of clusters\n",
    "def get_angular_size(r_h):\n",
    "\t'''Go  from half light radius to true radius, based on King (1966) model for half light radius.\n",
    "\tTakes half light radius, in arcmin, and multiply by 2.5 to get angular radius.\n",
    "\tMultiply by 2 again to get angular diameter (angular size)\n",
    "\t'''\n",
    "\treturn 2.5 * r_h * 2\n",
    "\n",
    "\n",
    "def get_true_diameter(angular_size, dist):\n",
    "\t'''Takes angular size, in arcmin, and distance from Sun, in pc,\n",
    "\tCalculates true diameter (in pc)\n",
    "\t'''\n",
    "\tdiam_rad = angular_size * (2.9089 * 10**-4) # 2.9089 * 10^-4 rad = 1 arcmin\n",
    "\treturn diam_rad * dist \n",
    "\n",
    "\n",
    "# GLOBULAR CLUSTER DATA READING\n",
    "glob_data1 = pd.read_csv(\"glob_data.txt\", skiprows = 72, nrows = 157, delim_whitespace = True, header = None)\n",
    "glob_data2 = pd.read_csv(\"glob_data.txt\", skiprows = 252, nrows = 157, delim_whitespace = True, header = None)\n",
    "glob_data3 = pd.read_csv(\"glob_data.txt\", skiprows = 433, nrows = 157, delim_whitespace = True, header = None)\n",
    "\n",
    "# Combining the first two columns because the names were split\n",
    "glob_data1[\"Cname\"] = glob_data1.iloc[:,0] + glob_data1.iloc[:,1].astype(str)\n",
    "\n",
    "\n",
    "glob_data = pd.concat([glob_data1[\"Cname\"], glob_data1.iloc[:,4:10], glob_data1.iloc[:,10], glob_data2.iloc[:,4], glob_data3.iloc[:,9]], axis = 1)\n",
    "glob_data.columns = [\"Cname\", \"RA1\", \"RA2\",\"RA3\", \"Dec1\", \"Dec2\", \"Dec3\", \"R_sun\", \"E(B-V)\",\"r_h\" ]\n",
    "glob_data = glob_data.dropna()\n",
    "\n",
    "# OPEN CLUSTER DATA READING\n",
    "open_data = pd.read_csv(\"open_data.tsv\", skiprows = 39, delimiter = \"\\t\", header = None)\n",
    "\n",
    "# Code generated by ChatGPT-4o (OpenAI, 2024) - November 2024 version, Prompt: \"I have too many whitespace missing values in my dataset, how do I remove them?\"\n",
    "open_data = open_data.map(lambda x: x.strip() if isinstance(x, str) else x)  # Remove leading/trailing spaces\n",
    "open_data.replace('', pd.NA, inplace=True)  # Replace empty strings with NaN\n",
    "open_data = open_data.dropna()\n",
    "\n",
    "open_data.columns = [\"RA\", \"Dec\", \"Diam\", \"Dist\", \"Age (log years)\", \"Metallicity\", \"E(B-V)\", \"Cname\", \"_RA.icrs\", \"_DE.icrs\"]\n",
    "open_data['Diam'] = pd.to_numeric(open_data['Diam'], errors = \"coerce\")\n",
    "open_data['Dist'] = pd.to_numeric(open_data['Dist'], errors = \"coerce\")\n",
    "\n",
    "print(\"Globular Data\",\"\\n\")\n",
    "print(glob_data.head())\n",
    "\n",
    "print(\"Open Data\", \"\\n\")\n",
    "print(open_data)"
   ]
  },
  {
   "cell_type": "markdown",
   "id": "b872c937-6d34-4392-a394-476d9d0dc595",
   "metadata": {},
   "source": [
    "## Calculate the True Diameter (in parsecs)"
   ]
  },
  {
   "cell_type": "code",
   "execution_count": 3,
   "id": "387c2f5f-0ea2-4700-b3a0-d62ad3838834",
   "metadata": {},
   "outputs": [],
   "source": [
    "open_data['Diam'] = pd.to_numeric(open_data['Diam'], errors = \"coerce\")\n",
    "open_data['Dist'] = pd.to_numeric(open_data['Dist'], errors = \"coerce\")\n",
    "\n",
    "# Mask out negatives from glob_data\n",
    "glob_data = glob_data.mask(glob_data['r_h'] < 0)\n",
    "\n",
    "glob_data['true diam'] = get_true_diameter(get_angular_size(glob_data['r_h']), 1000 * glob_data['R_sun'])\n",
    "\n",
    "# open_data true diameter\n",
    "open_data['true diam'] = get_true_diameter(open_data['Diam'], open_data['Dist'])"
   ]
  },
  {
   "cell_type": "markdown",
   "id": "73fc990d-02b1-4ed8-bdb2-e699d2bed36c",
   "metadata": {},
   "source": [
    "## Checking correlations"
   ]
  },
  {
   "cell_type": "code",
   "execution_count": 4,
   "id": "42054f02-92fc-4559-a437-608c6c322af8",
   "metadata": {},
   "outputs": [
    {
     "data": {
      "image/png": "[encoded data removed]",
      "text/plain": [
       "<Figure size 640x480 with 2 Axes>"
      ]
     },
     "metadata": {},
     "output_type": "display_data"
    }
   ],
   "source": [
    "import seaborn as sns\n",
    "\n",
    "globular_correlation = (glob_data.drop(\"Cname\", axis=1)).corr()\n",
    "\n",
    "sns.heatmap(globular_correlation, cmap=\"coolwarm\")\n",
    "plt.xticks(rotation=75)\n",
    "plt.tight_layout()"
   ]
  },
  {
   "cell_type": "code",
   "execution_count": 5,
   "id": "331b8f8f-c4ec-4826-a05c-fe2674b2fa9f",
   "metadata": {},
   "outputs": [],
   "source": [
    "# Add cluster_type column\n",
    "glob_data['cluster_type'] = 1 #making globular clusters equal to one\n",
    "open_data['cluster_type'] = 0 #making open clusters equal to zero\n",
    "\n",
    "# Drop unwanted columns\n",
    "glob_data_dropped = glob_data.drop(columns = ['Cname', 'RA1', 'RA2', 'RA3', 'Dec1', 'Dec2', 'Dec3', 'R_sun', 'r_h'])\n",
    "open_data_dropped = open_data.drop(columns = ['RA', 'Dec', 'Diam', 'Dist', 'Age (log years)', 'Metallicity', 'Cname', '_RA.icrs', '_DE.icrs'])\n",
    "\n",
    "# Rename diameter columns \n",
    "glob_data_dropped.rename(columns = {'true diam': 'diameter (pc)'}, inplace = True)\n",
    "open_data_dropped.rename(columns = {'true diam': 'diameter (pc)'}, inplace = True)\n",
    "\n",
    "# Combine datasets\n",
    "clusters_df = pd.concat([glob_data_dropped, open_data_dropped])\n",
    "\n",
    "# Drop extreme values\n",
    "clusters_df = clusters_df.mask((clusters_df['diameter (pc)'] > 1000))\n",
    "\n",
    "# Drops Nans\n",
    "clusters_df = clusters_df.dropna()\n",
    "\n",
    "# Make sure there are no objects\n",
    "clusters_df = clusters_df.apply(pd.to_numeric, errors = 'raise')"
   ]
  },
  {
   "cell_type": "markdown",
   "id": "7eac2acc-8d40-4b1a-8acf-d0180a2730ab",
   "metadata": {},
   "source": [
    "## One Variable Linear Regression"
   ]
  },
  {
   "cell_type": "code",
   "execution_count": 6,
   "id": "d19b67bf-02db-4ccb-9f37-2a05891fc9cd",
   "metadata": {},
   "outputs": [
    {
     "name": "stdout",
     "output_type": "stream",
     "text": [
      "                            OLS Regression Results                            \n",
      "==============================================================================\n",
      "Dep. Variable:          diameter (pc)   R-squared:                       0.000\n",
      "Model:                            OLS   Adj. R-squared:                 -0.005\n",
      "Method:                 Least Squares   F-statistic:                   0.06447\n",
      "Date:                Sun, 17 Nov 2024   Prob (F-statistic):              0.800\n",
      "Time:                        14:32:58   Log-Likelihood:                -1177.3\n",
      "No. Observations:                 203   AIC:                             2359.\n",
      "Df Residuals:                     201   BIC:                             2365.\n",
      "Df Model:                           1                                         \n",
      "Covariance Type:            nonrobust                                         \n",
      "==============================================================================\n",
      "                 coef    std err          t      P>|t|      [0.025      0.975]\n",
      "------------------------------------------------------------------------------\n",
      "const         39.7903      6.938      5.735      0.000      26.110      53.471\n",
      "E(B-V)         3.0443     11.989      0.254      0.800     -20.596      26.685\n",
      "==============================================================================\n",
      "Omnibus:                      255.457   Durbin-Watson:                   1.874\n",
      "Prob(Omnibus):                  0.000   Jarque-Bera (JB):            11283.727\n",
      "Skew:                           5.403   Prob(JB):                         0.00\n",
      "Kurtosis:                      37.889   Cond. No.                         2.43\n",
      "==============================================================================\n",
      "\n",
      "Notes:\n",
      "[1] Standard Errors assume that the covariance matrix of the errors is correctly specified.\n"
     ]
    }
   ],
   "source": [
    "df = pd.concat([glob_data, open_data])\n",
    "# clusters_df\n",
    "model = sm.OLS(clusters_df[\"diameter (pc)\"], sm.add_constant(clusters_df['E(B-V)']))\n",
    "results = model.fit()\n",
    "print(results.summary())"
   ]
  },
  {
   "cell_type": "markdown",
   "id": "a70a8c4e-6353-4b18-b9fe-f1ef312832b0",
   "metadata": {},
   "source": [
    "## Visualizing the data"
   ]
  },
  {
   "cell_type": "code",
   "execution_count": 12,
   "id": "92c8627b-c940-4b9f-9e55-ab9564651c4b",
   "metadata": {},
   "outputs": [
    {
     "data": {
      "text/plain": [
       "<matplotlib.legend.Legend at 0x7f73b7974b90>"
      ]
     },
     "execution_count": 8,
     "metadata": {},
     "output_type": "execute_result"
    },
    {
     "data": {
      "image/png": "[encoded data removed]",
      "text/plain": [
       "<Figure size 640x480 with 1 Axes>"
      ]
     },
     "metadata": {},
     "output_type": "display_data"
    }
   ],
   "source": [
    "x = np.linspace(0,20, 1000)\n",
    "y = 3.0443 * x + 39.7903\n",
    "plt.scatter(glob_data[\"E(B-V)\"], glob_data[\"true diam\"], c=\"RoyalBlue\", label=\"Globular Clusters\")\n",
    "plt.scatter(open_data[\"E(B-V)\"], open_data[\"true diam\"], c=\"orange\", label=\"Open Clusters\")\n",
    "plt.plot(x,y, c=\"purple\")\n",
    "plt.xlabel(\"E(B-V)\")\n",
    "plt.ylabel(\"Diameter\")\n",
    "plt.yscale(\"log\")\n",
    "plt.xscale(\"log\")\n",
    "plt.legend()"
   ]
  },
  {
   "cell_type": "code",
   "execution_count": 8,
   "id": "0611f317-30ff-42ff-80ef-e22425baf8ee",
   "metadata": {},
   "outputs": [
    {
     "data": {
      "text/plain": [
       "const     39.790293\n",
       "E(B-V)     3.044255\n",
       "dtype: float64"
      ]
     },
     "execution_count": 8,
     "metadata": {},
     "output_type": "execute_result"
    }
   ],
   "source": [
    "results.params"
   ]
  },
  {
   "cell_type": "markdown",
   "id": "6a939904-5540-4a88-bce2-39c05870f9e2",
   "metadata": {},
   "source": [
    "# Data Analysis"
   ]
  },
  {
   "cell_type": "code",
   "execution_count": 35,
   "id": "bee184c0-4c52-458e-b3ae-b0c053ecf105",
   "metadata": {},
   "outputs": [
    {
     "name": "stdout",
     "output_type": "stream",
     "text": [
      "     E(B-V)  diameter (pc)  cluster_type  linear predictions\n",
      "1      0.03      28.866469           1.0                   0\n",
      "2      0.05      10.256781           1.0                   0\n",
      "4      0.01      70.885530           1.0                   1\n",
      "5      0.15      56.666826           1.0                   1\n",
      "6      0.00      11.272278           1.0                   0\n",
      "..      ...            ...           ...                 ...\n",
      "909    0.24       7.214072           0.0                   0\n",
      "940    0.27       9.773904           0.0                   0\n",
      "948    0.18       1.250827           0.0                   0\n",
      "961    0.96       1.309005           0.0                   0\n",
      "998    0.27       8.290365           0.0                   0\n",
      "\n",
      "[203 rows x 4 columns]\n"
     ]
    },
    {
     "name": "stderr",
     "output_type": "stream",
     "text": [
      "/tmp/ipykernel_2102137/2211099554.py:4: FutureWarning: Series.__getitem__ treating keys as positions is deprecated. In a future version, integer keys will always be treated as labels (consistent with DataFrame behavior). To access a value by position, use `ser.iloc[pos]`\n",
      "  condition = (clusters_df['E(B-V)'] * results.params[1] + results.params[0]) < clusters_df['diameter (pc)']\n"
     ]
    }
   ],
   "source": [
    "clusters_df['linear predictions'] =  0\n",
    "\n",
    "# Mask to set the predictions made by the ML model (any points above the line are 1.0 and thus considered globular, any points below are 0 and considered open)\n",
    "condition = (clusters_df['E(B-V)'] * results.params[1] + results.params[0]) < clusters_df['diameter (pc)']\n",
    "clusters_df.loc[condition, 'linear predictions'] = 1\n",
    "\n",
    "print(clusters_df)"
   ]
  },
  {
   "cell_type": "code",
   "execution_count": 45,
   "id": "e42def0f-6a38-471b-841f-dfbeb9ec91ff",
   "metadata": {
    "jp-MarkdownHeadingCollapsed": true
   },
   "outputs": [
    {
     "name": "stdout",
     "output_type": "stream",
     "text": [
      "[[79  0]\n",
      " [62 62]]\n"
     ]
    },
    {
     "data": {
      "image/png": "[encoded data removed]",
      "text/plain": [
       "<Figure size 640x480 with 2 Axes>"
      ]
     },
     "metadata": {},
     "output_type": "display_data"
    },
    {
     "name": "stdout",
     "output_type": "stream",
     "text": [
      "              precision    recall  f1-score   support\n",
      "\n",
      "        open       0.56      1.00      0.72        79\n",
      "    globular       1.00      0.50      0.67       124\n",
      "\n",
      "    accuracy                           0.69       203\n",
      "   macro avg       0.78      0.75      0.69       203\n",
      "weighted avg       0.83      0.69      0.69       203\n",
      "\n"
     ]
    }
   ],
   "source": [
    "import statsmodels.api as sm\n",
    "from sklearn.metrics import accuracy_score, confusion_matrix, classification_report\n",
    "\n",
    "\n",
    "# Print confusion matrix with labels for each class\n",
    "class_labels = ['open','globular']\n",
    "print(confusion_matrix(clusters_df['cluster_type'], clusters_df['linear predictions']))\n",
    "\n",
    "# Visualize confusion matrix as a heatmap\n",
    "cm = confusion_matrix(clusters_df['cluster_type'], clusters_df['linear predictions'])\n",
    "sns.heatmap(cm, annot=True, fmt='d', cmap='Blues', xticklabels=class_labels, yticklabels=class_labels)\n",
    "plt.xlabel(\"Predicted\")\n",
    "plt.ylabel(\"Actual\")\n",
    "plt.title(\"Linear Regression\")\n",
    "plt.show()\n",
    "\n",
    "# Print classification report\n",
    "print(classification_report(clusters_df['cluster_type'], clusters_df['linear predictions'], target_names = class_labels))\n"
   ]
  },
  {
   "cell_type": "markdown",
   "id": "5e4c2e72-33ab-4a16-a231-8d2c82caf94c",
   "metadata": {},
   "source": [
    "As observed, this model performed very poorly. As we can see from the scatter plot with the x and y axes scaled to log, it is impossible to linearly separate this data. However, using a logistic regression model might fit better. \n",
    "\n",
    "From the confusion matrix, it seems the model has trouble identifying globular clusters but was able to detect 100% of the open cluster. Overall, it seems that linear regression is not the best approach to this type of data. We should turn to the two other methods and see how they compare. "
   ]
  },
  {
   "cell_type": "code",
   "execution_count": 5,
   "id": "b3d3b960-12d0-4120-a10c-d109b06c347a",
   "metadata": {},
   "outputs": [
    {
     "data": {
      "text/html": [
       "<div>\n",
       "<style scoped>\n",
       "    .dataframe tbody tr th:only-of-type {\n",
       "        vertical-align: middle;\n",
       "    }\n",
       "\n",
       "    .dataframe tbody tr th {\n",
       "        vertical-align: top;\n",
       "    }\n",
       "\n",
       "    .dataframe thead th {\n",
       "        text-align: right;\n",
       "    }\n",
       "</style>\n",
       "<table border=\"1\" class=\"dataframe\">\n",
       "  <thead>\n",
       "    <tr style=\"text-align: right;\">\n",
       "      <th></th>\n",
       "      <th>Diam</th>\n",
       "      <th>Dist</th>\n",
       "      <th>true diam</th>\n",
       "    </tr>\n",
       "  </thead>\n",
       "  <tbody>\n",
       "    <tr>\n",
       "      <th>count</th>\n",
       "      <td>79.000000</td>\n",
       "      <td>79.000000</td>\n",
       "      <td>79.000000</td>\n",
       "    </tr>\n",
       "    <tr>\n",
       "      <th>mean</th>\n",
       "      <td>31.224051</td>\n",
       "      <td>1193.721519</td>\n",
       "      <td>5.187128</td>\n",
       "    </tr>\n",
       "    <tr>\n",
       "      <th>std</th>\n",
       "      <td>51.736448</td>\n",
       "      <td>1052.228014</td>\n",
       "      <td>3.347563</td>\n",
       "    </tr>\n",
       "    <tr>\n",
       "      <th>min</th>\n",
       "      <td>4.000000</td>\n",
       "      <td>48.000000</td>\n",
       "      <td>1.047204</td>\n",
       "    </tr>\n",
       "    <tr>\n",
       "      <th>25%</th>\n",
       "      <td>10.000000</td>\n",
       "      <td>525.000000</td>\n",
       "      <td>2.529289</td>\n",
       "    </tr>\n",
       "    <tr>\n",
       "      <th>50%</th>\n",
       "      <td>14.000000</td>\n",
       "      <td>840.000000</td>\n",
       "      <td>4.799685</td>\n",
       "    </tr>\n",
       "    <tr>\n",
       "      <th>75%</th>\n",
       "      <td>30.000000</td>\n",
       "      <td>1475.000000</td>\n",
       "      <td>7.126805</td>\n",
       "    </tr>\n",
       "    <tr>\n",
       "      <th>max</th>\n",
       "      <td>329.000000</td>\n",
       "      <td>5200.000000</td>\n",
       "      <td>22.689420</td>\n",
       "    </tr>\n",
       "  </tbody>\n",
       "</table>\n",
       "</div>"
      ],
      "text/plain": [
       "             Diam         Dist  true diam\n",
       "count   79.000000    79.000000  79.000000\n",
       "mean    31.224051  1193.721519   5.187128\n",
       "std     51.736448  1052.228014   3.347563\n",
       "min      4.000000    48.000000   1.047204\n",
       "25%     10.000000   525.000000   2.529289\n",
       "50%     14.000000   840.000000   4.799685\n",
       "75%     30.000000  1475.000000   7.126805\n",
       "max    329.000000  5200.000000  22.689420"
      ]
     },
     "execution_count": 5,
     "metadata": {},
     "output_type": "execute_result"
    }
   ],
   "source": [
    "open_data['true diam'] = get_true_diameter(open_data['Diam'], open_data['Dist'])\n",
    "open_data.describe()"
   ]
  },
  {
   "cell_type": "markdown",
   "id": "54569263-515e-4cca-8717-2ec0923eabf0",
   "metadata": {},
   "source": [
    "# The Support Vector Machine Classification Model"
   ]
  },
  {
   "cell_type": "markdown",
   "id": "7d3e36ef-d1df-4fb9-a595-ad5284d6db96",
   "metadata": {},
   "source": [
    "We train a ML model using SVM classification similar to in class. In this model, we handle missing data by replacing them with NaN values and split the test and training data by 30%, 70% respectively. "
   ]
  },
  {
   "cell_type": "code",
   "execution_count": 6,
   "id": "eda093a5-7df9-4153-ab12-27b65dfd603d",
   "metadata": {},
   "outputs": [
    {
     "name": "stdout",
     "output_type": "stream",
     "text": [
      "Best C: 10.0\n",
      "Best gamma: 0.01\n",
      "Predicting names on the test set\n",
      "[[48  0]\n",
      " [ 0 23]]\n"
     ]
    },
    {
     "data": {
      "image/png": "[encoded data removed]",
      "text/plain": [
       "<Figure size 640x480 with 2 Axes>"
      ]
     },
     "metadata": {},
     "output_type": "display_data"
    },
    {
     "name": "stdout",
     "output_type": "stream",
     "text": [
      "              precision    recall  f1-score   support\n",
      "\n",
      "    globular       1.00      1.00      1.00        48\n",
      "        open       1.00      1.00      1.00        23\n",
      "\n",
      "    accuracy                           1.00        71\n",
      "   macro avg       1.00      1.00      1.00        71\n",
      "weighted avg       1.00      1.00      1.00        71\n",
      "\n"
     ]
    }
   ],
   "source": [
    "import pandas as pd\n",
    "import numpy as np\n",
    "from sklearn.impute import SimpleImputer\n",
    "from sklearn.model_selection import train_test_split\n",
    "from sklearn.preprocessing import StandardScaler\n",
    "\n",
    "# Assume glob_data and open_data are already loaded\n",
    "\n",
    "# Add 'ClusterType' column for each dataset\n",
    "glob_data['ClusterType'] = 'globular'\n",
    "open_data['ClusterType'] = 'open'\n",
    "\n",
    "# Select relevant features and create copies to avoid warnings\n",
    "glob_data_features = glob_data[['true diam', 'R_sun', 'E(B-V)', 'r_h']].copy()\n",
    "open_data_features = open_data[['Diam', 'Dist', 'E(B-V)']].copy()\n",
    "\n",
    "glob_data_features['ClusterType'] = glob_data['ClusterType']\n",
    "open_data_features['ClusterType'] = open_data['ClusterType']\n",
    "\n",
    "# Combine datasets and shuffle to add randomness\n",
    "combined_data = pd.concat([glob_data_features, open_data_features], ignore_index=True).sample(frac=1, random_state=42).reset_index(drop=True)\n",
    "\n",
    "# Impute missing values in combined_data for each column\n",
    "imputer = SimpleImputer(strategy='median')\n",
    "combined_data[['true diam', 'R_sun', 'E(B-V)', 'r_h']] = imputer.fit_transform(\n",
    "    combined_data[['true diam', 'R_sun', 'E(B-V)', 'r_h']]\n",
    ")\n",
    "\n",
    "# Check for any remaining NaN values and handle if needed\n",
    "if combined_data.isna().sum().sum() > 0:\n",
    "    combined_data = combined_data.fillna(0)  # Replace remaining NaNs with zero if any are left\n",
    "\n",
    "# Separate features and target\n",
    "X = combined_data.drop('ClusterType', axis=1)\n",
    "y = combined_data['ClusterType']\n",
    "\n",
    "# Standardize features\n",
    "scaler = StandardScaler()\n",
    "X_scaled = scaler.fit_transform(X)\n",
    "\n",
    "# Split data into training and test sets\n",
    "X_train, X_test, y_train, y_test = train_test_split(X_scaled, y, test_size=0.3, random_state=42)\n",
    "from sklearn.svm import SVC\n",
    "from sklearn.model_selection import GridSearchCV\n",
    "\n",
    "# Define parameter grid for C and gamma\n",
    "param_grid = {\n",
    "    'C': np.logspace(-2, 2, 5),      # C values from 0.01 to 100\n",
    "    'gamma': np.logspace(-3, 1, 5)   # gamma values from 0.001 to 10\n",
    "}\n",
    "\n",
    "# Use GridSearchCV to find the best parameters\n",
    "svm = SVC(kernel='rbf')\n",
    "grid_search = GridSearchCV(svm, param_grid, cv=5)\n",
    "grid_search.fit(X_train, y_train)\n",
    "\n",
    "# Print the best parameters found\n",
    "best_C = grid_search.best_params_['C']\n",
    "best_gamma = grid_search.best_params_['gamma']\n",
    "print(f\"Best C: {best_C}\")\n",
    "print(f\"Best gamma: {best_gamma}\")\n",
    "from sklearn.metrics import classification_report, confusion_matrix\n",
    "import seaborn as sns\n",
    "import matplotlib.pyplot as plt\n",
    "\n",
    "# Assume the model has been trained and `X_test`, `y_test`, and `grid_search` exist\n",
    "\n",
    "# Predict the labels for the test set\n",
    "print(\"Predicting names on the test set\")\n",
    "pred_labels = grid_search.predict(X_test)  # Ensure grid_search is defined and trained\n",
    "\n",
    "# Get the unique class labels from y_test to use as the 'labels' argument\n",
    "class_labels = np.unique(y_test)  # Ensure y_test is defined and contains actual class labels\n",
    "\n",
    "# Print confusion matrix with labels for each class\n",
    "print(confusion_matrix(y_test, pred_labels, labels=class_labels))\n",
    "\n",
    "# Visualize confusion matrix as a heatmap\n",
    "cm = confusion_matrix(y_test, pred_labels, labels=class_labels)\n",
    "sns.heatmap(cm, annot=True, fmt='d', cmap='Blues', xticklabels=class_labels, yticklabels=class_labels)\n",
    "plt.xlabel(\"Predicted\")\n",
    "plt.ylabel(\"Actual\")\n",
    "plt.title(\"SVM Classification\")\n",
    "plt.show()\n",
    "\n",
    "# Print classification report\n",
    "print(classification_report(y_test, pred_labels))"
   ]
  },
  {
   "cell_type": "markdown",
   "id": "24111dba-2398-4bba-85e6-779447e1fd83",
   "metadata": {},
   "source": [
    "# Data Analysis"
   ]
  },
  {
   "cell_type": "markdown",
   "id": "9061ac1f-1229-4cdb-9734-8f7e934b7105",
   "metadata": {},
   "source": [
    "We conducted regression and classification of three different models to see whether a machine learning algorithm could be used to identify open star clusters vs globular star clusters. The  two primary features we used were the B-V index and the true diameter of the cluster. "
   ]
  },
  {
   "cell_type": "markdown",
   "id": "0d253340-a951-4bc6-93b5-f0ff83f32f07",
   "metadata": {},
   "source": [
    "The most successful model seemed to be the SVM classification model as it achieved a 100% accuracy rate with 0 false positives and 0 false negatives."
   ]
  },
  {
   "cell_type": "code",
   "execution_count": 1,
   "id": "bdbe116f-dd52-4ee6-bda3-fd4f7779fea2",
   "metadata": {},
   "outputs": [],
   "source": [
    "# Plot bar graph of the weighted average precision\n",
    "weighted_average_precision = [1.0]\n",
    "models = ['linear','logistic','classification']"
   ]
  },
  {
   "cell_type": "code",
   "execution_count": null,
   "id": "c8e4df93-59af-4e2e-bd2f-5b0e65401d9e",
   "metadata": {},
   "outputs": [],
   "source": []
  }
 ],
 "metadata": {
  "kernelspec": {
   "display_name": "Python 3.11 (default)",
   "language": "python",
   "name": "python3"
  },
  "language_info": {
   "codemirror_mode": {
    "name": "ipython",
    "version": 3
   },
   "file_extension": ".py",
   "mimetype": "text/x-python",
   "name": "python",
   "nbconvert_exporter": "python",
   "pygments_lexer": "ipython3",
   "version": "3.11.9"
  }
 },
 "nbformat": 4,
 "nbformat_minor": 5
}
