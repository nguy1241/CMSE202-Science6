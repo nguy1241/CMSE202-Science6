{
 "cells": [
  {
   "cell_type": "markdown",
   "id": "8a8a5898-8ae5-45fb-8064-009bf8be8c5c",
   "metadata": {},
   "source": [
    "# Can we classify open clusters and globular clusters using their B-V index and true diameter?"
   ]
  },
  {
   "cell_type": "markdown",
   "id": "d15a5f33-ea4a-4820-a9a5-737acb5c22b6",
   "metadata": {},
   "source": [
    "## Abstract"
   ]
  },
  {
   "cell_type": "markdown",
   "id": "d3505e5a-4e9b-450c-8dd3-b2dbacffd274",
   "metadata": {},
   "source": [
    "Abstract text here"
   ]
  },
  {
   "cell_type": "markdown",
   "id": "84effb6d-46cb-4ae4-a8b0-88835181ad6d",
   "metadata": {},
   "source": [
    "## Introduction"
   ]
  },
  {
   "cell_type": "markdown",
   "id": "1ae0013c-e0cf-4306-b492-be9a1c02c479",
   "metadata": {},
   "source": [
    "Introduction text here"
   ]
  },
  {
   "cell_type": "markdown",
   "id": "8c5373dc-eef3-45a3-8cd1-2dbe76b7c949",
   "metadata": {},
   "source": [
    "## Reading the Data"
   ]
  },
  {
   "cell_type": "code",
   "execution_count": 1,
   "id": "be1fcd20-0889-4a07-b581-70686b1b813b",
   "metadata": {},
   "outputs": [],
   "source": [
    "import numpy as np\n",
    "import pandas as pd\n",
    "import matplotlib.pyplot as plt\n",
    "import statsmodels.api as sm\n",
    "import seaborn as sns"
   ]
  },
  {
   "cell_type": "code",
   "execution_count": 2,
   "id": "efcf3e8e-be8f-40cb-a6c1-44d65c1859e5",
   "metadata": {},
   "outputs": [
    {
     "name": "stdout",
     "output_type": "stream",
     "text": [
      "Globular Data \n",
      "\n",
      "     Cname    RA1   RA2    RA3  Dec1    Dec2   Dec3   R_sun  E(B-V)   r_h\n",
      "0   NGC104   0.00  24.0   5.67 -72.0    4.00  52.60  305.89    0.04  3.17\n",
      "1   NGC288  45.24 -26.0  34.00  57.4  152.30 -89.38    8.90    0.03  2.23\n",
      "2   NGC362  14.26 -70.0  50.00  55.6  301.53 -46.25    8.60    0.05  0.82\n",
      "4  NGC1261  16.21 -55.0  12.00  58.4  270.54 -52.12   16.30    0.01  2.99\n",
      "5     Pal1  20.04  79.0  34.00  51.8  130.06  19.03   11.10    0.15  3.51\n",
      "Open Data \n",
      "\n",
      "          RA     Dec  Diam  Dist Age (log years) Metallicity E(B-V)  \\\n",
      "4    00 01.7  -30 12  89.0   190            7.70        0.03   0.09   \n",
      "26   00 39.4  +85 04  13.0  1550            9.70       -0.06   0.04   \n",
      "42   01 26.1  +63 03   4.4   900            9.10       -0.76   0.90   \n",
      "60   01 54.8  +37 26  49.0   400            9.04       -0.21   0.02   \n",
      "86   02 38.8  +42 34  35.0   440            8.29       -0.26   0.04   \n",
      "..       ...     ...   ...   ...             ...         ...    ...   \n",
      "909  20 32.5  +28 08  31.0   800            9.04        0.04   0.24   \n",
      "940  21 27.6  +46 52  24.0  1400            9.20        0.03   0.27   \n",
      "948  21 44.7  +65 34   4.3  1000            9.60       -0.11   0.18   \n",
      "961  22 18.6  +57 50   5.0   900            7.60       -0.46   0.96   \n",
      "998  23 54.5  +56 27  15.0  1900            9.20       -0.10   0.27   \n",
      "\n",
      "         Cname    _RA.icrs   _DE.icrs  \n",
      "4    C0001-302  00 04 15.3  -29 55 18  \n",
      "26   C0039+850  00 44 22.5  +85 20 25  \n",
      "42   C0126+630  01 29 29.1  +63 18 29  \n",
      "60   C0154+374  01 57 46.7  +37 40 36  \n",
      "86   C0238+425  02 42 01.4  +42 46 46  \n",
      "..         ...         ...        ...  \n",
      "909  C2032+281  20 34 35.7  +28 18 22  \n",
      "940  C2127+468  21 29 25.8  +47 05 11  \n",
      "948  C2144+655  21 45 53.8  +65 47 54  \n",
      "961  C2218+578  22 20 24.5  +58 05 07  \n",
      "998  C2354+564  23 57 01.9  +56 43 42  \n",
      "\n",
      "[79 rows x 10 columns]\n"
     ]
    }
   ],
   "source": [
    "def get_angular_size(r_h):\n",
    "\t'''Go  from half light radius to true radius, based on King (1966) model for half light radius.\n",
    "\tTakes half light radius, in arcmin, and multiply by 2.5 to get angular radius.\n",
    "\tMultiply by 2 again to get angular diameter (angular size)\n",
    "\t'''\n",
    "\treturn 2.5 * r_h * 2\n",
    "\n",
    "\n",
    "def get_true_diameter(angular_size, dist):\n",
    "\t'''Takes angular size, in arcmin, and distance from Sun, in pc,\n",
    "\tCalculates true diameter (in pc)\n",
    "\t'''\n",
    "\tdiam_rad = angular_size * (2.9089 * 10**-4) # 2.9089 * 10^-4 rad = 1 arcmin\n",
    "\treturn diam_rad * dist \n",
    "\n",
    "\n",
    "# GLOBULAR CLUSTER DATA READING\n",
    "glob_data1 = pd.read_csv(\"glob_data.txt\", skiprows = 72, nrows = 157, sep='\\s+', header = None)\n",
    "glob_data2 = pd.read_csv(\"glob_data.txt\", skiprows = 252, nrows = 157, sep='\\s+', header = None)\n",
    "glob_data3 = pd.read_csv(\"glob_data.txt\", skiprows = 433, nrows = 157, sep='\\s+', header = None)\n",
    "\n",
    "# Combining the first two columns because the names were split\n",
    "glob_data1[\"Cname\"] = glob_data1.iloc[:,0] + glob_data1.iloc[:,1].astype(str)\n",
    "\n",
    "\n",
    "glob_data = pd.concat([glob_data1[\"Cname\"], glob_data1.iloc[:,4:10], glob_data1.iloc[:,10], glob_data2.iloc[:,4], glob_data3.iloc[:,9]], axis = 1)\n",
    "glob_data.columns = [\"Cname\", \"RA1\", \"RA2\",\"RA3\", \"Dec1\", \"Dec2\", \"Dec3\", \"R_sun\", \"E(B-V)\",\"r_h\" ]\n",
    "glob_data = glob_data.dropna()\n",
    "\n",
    "# OPEN CLUSTER DATA READING\n",
    "open_data = pd.read_csv(\"open_data.tsv\", skiprows = 39, delimiter = \"\\t\", header = None)\n",
    "\n",
    "# Code generated by ChatGPT-4o (OpenAI, 2024) - November 2024 version, Prompt: \"I have too many whitespace missing values in my dataset, how do I remove them?\"\n",
    "open_data = open_data.map(lambda x: x.strip() if isinstance(x, str) else x)  # Remove leading/trailing spaces\n",
    "open_data.replace('', pd.NA, inplace=True)  # Replace empty strings with NaN\n",
    "open_data = open_data.dropna()\n",
    "\n",
    "open_data.columns = [\"RA\", \"Dec\", \"Diam\", \"Dist\", \"Age (log years)\", \"Metallicity\", \"E(B-V)\", \"Cname\", \"_RA.icrs\", \"_DE.icrs\"]\n",
    "\n",
    "print(\"Globular Data\",\"\\n\")\n",
    "print(glob_data.head())\n",
    "\n",
    "print(\"Open Data\", \"\\n\")\n",
    "print(open_data)"
   ]
  },
  {
   "cell_type": "markdown",
   "id": "b872c937-6d34-4392-a394-476d9d0dc595",
   "metadata": {},
   "source": [
    "## Calculate the True Diameter (in parsecs)"
   ]
  },
  {
   "cell_type": "code",
   "execution_count": 3,
   "id": "387c2f5f-0ea2-4700-b3a0-d62ad3838834",
   "metadata": {},
   "outputs": [],
   "source": [
    "open_data['Diam'] = pd.to_numeric(open_data['Diam'], errors = \"coerce\")\n",
    "open_data['Dist'] = pd.to_numeric(open_data['Dist'], errors = \"coerce\")\n",
    "\n",
    "# Mask out negatives from glob_data\n",
    "glob_data = glob_data.mask(glob_data['r_h'] < 0)\n",
    "\n",
    "glob_data['true diam'] = get_true_diameter(get_angular_size(glob_data['r_h']), 1000 * glob_data['R_sun'])\n",
    "\n",
    "# open_data true diameter\n",
    "open_data['true diam'] = get_true_diameter(open_data['Diam'], open_data['Dist'])"
   ]
  },
  {
   "cell_type": "markdown",
   "id": "73fc990d-02b1-4ed8-bdb2-e699d2bed36c",
   "metadata": {},
   "source": [
    "## Checking correlations"
   ]
  },
  {
   "cell_type": "code",
   "execution_count": 4,
   "id": "42054f02-92fc-4559-a437-608c6c322af8",
   "metadata": {},
   "outputs": [
    {
     "data": {
      "image/png": "[encoded data removed]",
      "text/plain": [
       "<Figure size 640x480 with 2 Axes>"
      ]
     },
     "metadata": {},
     "output_type": "display_data"
    }
   ],
   "source": [
    "globular_correlation = (glob_data.drop(\"Cname\", axis=1)).corr()\n",
    "\n",
    "sns.heatmap(globular_correlation, cmap=\"coolwarm\")\n",
    "plt.xticks(rotation=75)\n",
    "plt.tight_layout()"
   ]
  },
  {
   "cell_type": "code",
   "execution_count": 5,
   "id": "331b8f8f-c4ec-4826-a05c-fe2674b2fa9f",
   "metadata": {},
   "outputs": [],
   "source": [
    "# Add cluster_type column\n",
    "glob_data['cluster_type'] = 1 #making globular clusters equal to one\n",
    "open_data['cluster_type'] = 0 #making open clusters equal to zero\n",
    "\n",
    "# Drop unwanted columns\n",
    "glob_data_dropped = glob_data.drop(columns = ['Cname', 'RA1', 'RA2', 'RA3', 'Dec1', 'Dec2', 'Dec3', 'R_sun', 'r_h'])\n",
    "open_data_dropped = open_data.drop(columns = ['RA', 'Dec', 'Diam', 'Dist', 'Age (log years)', 'Metallicity', 'Cname', '_RA.icrs', '_DE.icrs'])\n",
    "\n",
    "# Rename diameter columns \n",
    "glob_data_dropped.rename(columns = {'true diam': 'diameter (pc)'}, inplace = True)\n",
    "open_data_dropped.rename(columns = {'true diam': 'diameter (pc)'}, inplace = True)\n",
    "\n",
    "# Combine datasets\n",
    "clusters_df = pd.concat([glob_data_dropped, open_data_dropped])\n",
    "\n",
    "# Drop extreme values\n",
    "clusters_df = clusters_df.mask((clusters_df['diameter (pc)'] > 1000))\n",
    "\n",
    "# Drops Nans\n",
    "clusters_df = clusters_df.dropna()\n",
    "\n",
    "# Make sure there are no objects\n",
    "clusters_df = clusters_df.apply(pd.to_numeric, errors = 'raise')"
   ]
  },
  {
   "cell_type": "markdown",
   "id": "7eac2acc-8d40-4b1a-8acf-d0180a2730ab",
   "metadata": {},
   "source": [
    "## One Variable Linear Regression"
   ]
  },
  {
   "cell_type": "code",
   "execution_count": 6,
   "id": "d19b67bf-02db-4ccb-9f37-2a05891fc9cd",
   "metadata": {},
   "outputs": [
    {
     "name": "stdout",
     "output_type": "stream",
     "text": [
      "                            OLS Regression Results                            \n",
      "==============================================================================\n",
      "Dep. Variable:          diameter (pc)   R-squared:                       0.000\n",
      "Model:                            OLS   Adj. R-squared:                 -0.005\n",
      "Method:                 Least Squares   F-statistic:                   0.06447\n",
      "Date:                Sun, 17 Nov 2024   Prob (F-statistic):              0.800\n",
      "Time:                        12:47:48   Log-Likelihood:                -1177.3\n",
      "No. Observations:                 203   AIC:                             2359.\n",
      "Df Residuals:                     201   BIC:                             2365.\n",
      "Df Model:                           1                                         \n",
      "Covariance Type:            nonrobust                                         \n",
      "==============================================================================\n",
      "                 coef    std err          t      P>|t|      [0.025      0.975]\n",
      "------------------------------------------------------------------------------\n",
      "const         39.7903      6.938      5.735      0.000      26.110      53.471\n",
      "E(B-V)         3.0443     11.989      0.254      0.800     -20.596      26.685\n",
      "==============================================================================\n",
      "Omnibus:                      255.457   Durbin-Watson:                   1.874\n",
      "Prob(Omnibus):                  0.000   Jarque-Bera (JB):            11283.727\n",
      "Skew:                           5.403   Prob(JB):                         0.00\n",
      "Kurtosis:                      37.889   Cond. No.                         2.43\n",
      "==============================================================================\n",
      "\n",
      "Notes:\n",
      "[1] Standard Errors assume that the covariance matrix of the errors is correctly specified.\n"
     ]
    }
   ],
   "source": [
    "df = pd.concat([glob_data, open_data])\n",
    "# clusters_df\n",
    "model = sm.OLS(clusters_df[\"diameter (pc)\"], sm.add_constant(clusters_df['E(B-V)']))\n",
    "results = model.fit()\n",
    "print(results.summary())"
   ]
  },
  {
   "cell_type": "markdown",
   "id": "a70a8c4e-6353-4b18-b9fe-f1ef312832b0",
   "metadata": {},
   "source": [
    "## Visualizing the data"
   ]
  },
  {
   "cell_type": "code",
   "execution_count": 7,
   "id": "92c8627b-c940-4b9f-9e55-ab9564651c4b",
   "metadata": {},
   "outputs": [
    {
     "data": {
      "image/png": "[encoded data removed]",
      "text/plain": [
       "<Figure size 640x480 with 1 Axes>"
      ]
     },
     "metadata": {},
     "output_type": "display_data"
    }
   ],
   "source": [
    "x = np.linspace(0,20, 1000)\n",
    "y = 3.0443 * x + 39.7903\n",
    "plt.scatter(glob_data[\"E(B-V)\"], glob_data[\"true diam\"], c=\"RoyalBlue\", label=\"Globular Clusters\")\n",
    "plt.scatter(open_data[\"E(B-V)\"], open_data[\"true diam\"], c=\"orange\", label=\"Open Clusters\")\n",
    "plt.plot(x,y, c=\"purple\")\n",
    "plt.xlabel(\"E(B-V)\")\n",
    "plt.ylabel(\"Diameter\")\n",
    "plt.yscale(\"log\")\n",
    "plt.xscale(\"log\")"
   ]
  },
  {
   "cell_type": "code",
   "execution_count": 8,
   "id": "0611f317-30ff-42ff-80ef-e22425baf8ee",
   "metadata": {},
   "outputs": [
    {
     "data": {
      "text/plain": [
       "array([39.88162026, 39.94250535, 39.82073517, 40.2469308 , 39.79029262,\n",
       "       43.56516822, 39.85117771, 39.82073517, 40.21648825, 40.03383298,\n",
       "       40.46002861, 39.9120628 , 40.5209137 , 39.82073517, 39.85117771,\n",
       "       40.97755188, 40.39914352, 39.94250535, 40.76445407, 39.85117771,\n",
       "       39.82073517, 39.82073517, 40.5209137 , 39.79029262, 39.94250535,\n",
       "       40.06427553, 40.49047116, 40.18604571, 39.88162026, 40.06427553,\n",
       "       39.88162026, 41.16020715, 41.43419006, 40.64268389, 39.9120628 ,\n",
       "       40.33825843, 39.94250535, 40.88622425, 42.07348351, 42.01259842,\n",
       "       40.79489661, 39.85117771, 39.82073517, 40.36870098, 40.73401152,\n",
       "       40.64268389, 43.10853004, 41.22109224, 40.64268389, 41.61684533,\n",
       "       40.88622425, 41.43419006, 41.43419006, 39.85117771, 42.56056423,\n",
       "       40.94710934, 41.1906497 , 40.64268389, 42.1343686 , 40.46002861,\n",
       "       41.95171333, 40.06427553, 49.13615397, 40.91666679, 41.61684533,\n",
       "       41.98215587, 40.33825843, 44.23490421, 40.88622425, 44.60021475,\n",
       "       46.73119291, 43.04764495, 41.22109224, 41.73861551, 49.34925179,\n",
       "       40.2469308 , 45.14818056, 43.07808749, 41.25153479, 40.82533916,\n",
       "       41.43419006, 42.89543222, 41.7995006 , 42.10392605, 40.21648825,\n",
       "       41.70817296, 41.12976461, 43.07808749, 46.06145691, 41.40374751,\n",
       "       40.09471807, 40.64268389, 41.00799443, 41.03843697, 40.33825843,\n",
       "       41.00799443, 40.06427553, 40.82533916, 40.76445407, 40.00339044,\n",
       "       41.16020715, 40.2469308 , 40.46002861, 39.94250535, 44.35667439,\n",
       "       39.9120628 , 42.1343686 , 40.5817988 , 40.00339044, 44.84375511,\n",
       "       40.03383298, 40.15560316, 40.8557817 , 40.55135625, 40.27737334,\n",
       "       40.09471807, 39.94250535, 39.94250535, 40.09471807, 39.97294789,\n",
       "       39.88162026, 39.85117771, 39.94250535, 39.79029262, 40.06427553,\n",
       "       39.9120628 , 42.53012168, 39.85117771, 39.9120628 , 40.61224134,\n",
       "       40.06427553, 40.61224134, 40.76445407, 39.94250535, 40.67312643,\n",
       "       39.79029262, 40.76445407, 40.79489661, 41.16020715, 40.49047116,\n",
       "       42.31702387, 41.03843697, 39.79029262, 39.79029262, 39.97294789,\n",
       "       39.79029262, 40.03383298, 39.9120628 , 39.94250535, 40.94710934,\n",
       "       40.36870098, 39.97294789, 39.79029262, 40.27737334, 40.15560316,\n",
       "       39.79029262, 39.79029262, 39.94250535, 39.9120628 , 40.67312643,\n",
       "       39.88162026, 40.06427553, 40.06427553, 40.06427553, 40.09471807,\n",
       "       39.85117771, 40.09471807, 39.94250535, 40.46002861, 40.70356898,\n",
       "       39.79029262, 39.88162026, 40.8557817 , 39.9120628 , 39.94250535,\n",
       "       39.79029262, 39.88162026, 39.88162026, 39.79029262, 40.30781589,\n",
       "       41.28197733, 40.18604571, 40.5817988 , 39.79029262, 40.8557817 ,\n",
       "       41.09932206, 41.67773042, 40.21648825, 40.09471807, 40.27737334,\n",
       "       40.30781589, 41.25153479, 40.42958607, 40.88622425, 40.15560316,\n",
       "       40.42958607, 41.16020715, 41.25153479, 40.5209137 , 40.61224134,\n",
       "       40.33825843, 42.71277695, 40.61224134])"
      ]
     },
     "execution_count": 8,
     "metadata": {},
     "output_type": "execute_result"
    }
   ],
   "source": [
    "results.predict()"
   ]
  },
  {
   "cell_type": "code",
   "execution_count": null,
   "id": "bee184c0-4c52-458e-b3ae-b0c053ecf105",
   "metadata": {},
   "outputs": [],
   "source": []
  }
 ],
 "metadata": {
  "kernelspec": {
   "display_name": "Python 3.11 (default)",
   "language": "python",
   "name": "python3"
  },
  "language_info": {
   "codemirror_mode": {
    "name": "ipython",
    "version": 3
   },
   "file_extension": ".py",
   "mimetype": "text/x-python",
   "name": "python",
   "nbconvert_exporter": "python",
   "pygments_lexer": "ipython3",
   "version": "3.11.9"
  }
 },
 "nbformat": 4,
 "nbformat_minor": 5
}
