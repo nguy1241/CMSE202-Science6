{
 "cells": [
  {
   "cell_type": "markdown",
   "id": "8a8a5898-8ae5-45fb-8064-009bf8be8c5c",
   "metadata": {},
   "source": [
    "# Can we classify open clusters and globular clusters using their B-V index and true diameter?"
   ]
  },
  {
   "cell_type": "markdown",
   "id": "d15a5f33-ea4a-4820-a9a5-737acb5c22b6",
   "metadata": {},
   "source": [
    "## Abstract"
   ]
  },
  {
   "cell_type": "markdown",
   "id": "84effb6d-46cb-4ae4-a8b0-88835181ad6d",
   "metadata": {},
   "source": [
    "## Introduction"
   ]
  },
  {
   "cell_type": "markdown",
   "id": "daff2649-86c9-4393-ae69-679aded2aa83",
   "metadata": {
    "jp-MarkdownHeadingCollapsed": true
   },
   "source": [
    "## Imports"
   ]
  },
  {
   "cell_type": "code",
   "execution_count": 1,
   "id": "b5a7d6bd-b920-4615-b6b3-88e67b7dc07b",
   "metadata": {},
   "outputs": [],
   "source": [
    "import numpy as np\n",
    "import pandas as pd\n",
    "import matplotlib.pyplot as plt\n",
    "import statsmodels.api as sm\n",
    "from sklearn.model_selection import train_test_split \n",
    "from sklearn.metrics import accuracy_score\n",
    "from sklearn import metrics\n",
    "import sklearn as sk"
   ]
  },
  {
   "cell_type": "markdown",
   "id": "8c5373dc-eef3-45a3-8cd1-2dbe76b7c949",
   "metadata": {
    "jp-MarkdownHeadingCollapsed": true
   },
   "source": [
    "## Reading the Data"
   ]
  },
  {
   "cell_type": "code",
   "execution_count": 2,
   "id": "accd15a3-179e-4dbd-8c5c-ec1ca23d4a9c",
   "metadata": {},
   "outputs": [],
   "source": [
    "## Functions to calculate diameter of clusters\n",
    "def get_angular_size(r_h):\n",
    "\t'''Go  from half light radius to true radius, based on King (1966) model for half light radius.\n",
    "\tTakes half light radius, in arcmin, and multiply by 2.5 to get angular radius.\n",
    "\tMultiply by 2 again to get angular diameter (angular size)\n",
    "\t'''\n",
    "\treturn 2.5 * r_h * 2\n",
    "\n",
    "\n",
    "def get_true_diameter(angular_size, dist):\n",
    "\t'''Takes angular size, in arcmin, and distance from Sun, in pc,\n",
    "\tCalculates true diameter (in pc)\n",
    "\t'''\n",
    "\tdiam_rad = angular_size * (2.9089 * 10**-4) # 2.9089 * 10^-4 rad = 1 arcmin\n",
    "\treturn diam_rad * dist \n"
   ]
  },
  {
   "cell_type": "code",
   "execution_count": 3,
   "id": "10645f60-8ed4-40f1-815b-736c777d315c",
   "metadata": {
    "scrolled": true
   },
   "outputs": [
    {
     "name": "stdout",
     "output_type": "stream",
     "text": [
      "Globular Data \n",
      "\n",
      "     Cname    RA1  RA2   RA3  Dec1    Dec2   Dec3  R_sun  E(B-V)   r_h\n",
      "0   NGC104   5.67  -72   4.0  52.6  305.89 -44.89    4.5    0.04  3.17\n",
      "1   NGC288  45.24  -26  34.0  57.4  152.30 -89.38    8.9    0.03  2.23\n",
      "2   NGC362  14.26  -70  50.0  55.6  301.53 -46.25    8.6    0.05  0.82\n",
      "4  NGC1261  16.21  -55  12.0  58.4  270.54 -52.12   16.3    0.01  2.99\n",
      "5     Pal1  20.04   79  34.0  51.8  130.06  19.03   11.1    0.15  3.51\n",
      "Open Data \n",
      "\n",
      "          RA     Dec  Diam  Dist Age (log years) Metallicity E(B-V)  \\\n",
      "4    00 01.7  -30 12  89.0   190            7.70        0.03   0.09   \n",
      "26   00 39.4  +85 04  13.0  1550            9.70       -0.06   0.04   \n",
      "42   01 26.1  +63 03   4.4   900            9.10       -0.76   0.90   \n",
      "60   01 54.8  +37 26  49.0   400            9.04       -0.21   0.02   \n",
      "86   02 38.8  +42 34  35.0   440            8.29       -0.26   0.04   \n",
      "..       ...     ...   ...   ...             ...         ...    ...   \n",
      "909  20 32.5  +28 08  31.0   800            9.04        0.04   0.24   \n",
      "940  21 27.6  +46 52  24.0  1400            9.20        0.03   0.27   \n",
      "948  21 44.7  +65 34   4.3  1000            9.60       -0.11   0.18   \n",
      "961  22 18.6  +57 50   5.0   900            7.60       -0.46   0.96   \n",
      "998  23 54.5  +56 27  15.0  1900            9.20       -0.10   0.27   \n",
      "\n",
      "         Cname    _RA.icrs   _DE.icrs  \n",
      "4    C0001-302  00 04 15.3  -29 55 18  \n",
      "26   C0039+850  00 44 22.5  +85 20 25  \n",
      "42   C0126+630  01 29 29.1  +63 18 29  \n",
      "60   C0154+374  01 57 46.7  +37 40 36  \n",
      "86   C0238+425  02 42 01.4  +42 46 46  \n",
      "..         ...         ...        ...  \n",
      "909  C2032+281  20 34 35.7  +28 18 22  \n",
      "940  C2127+468  21 29 25.8  +47 05 11  \n",
      "948  C2144+655  21 45 53.8  +65 47 54  \n",
      "961  C2218+578  22 20 24.5  +58 05 07  \n",
      "998  C2354+564  23 57 01.9  +56 43 42  \n",
      "\n",
      "[79 rows x 10 columns]\n"
     ]
    },
    {
     "name": "stderr",
     "output_type": "stream",
     "text": [
      "/tmp/ipykernel_923621/3215036355.py:18: FutureWarning: The 'delim_whitespace' keyword in pd.read_csv is deprecated and will be removed in a future version. Use ``sep='\\s+'`` instead\n",
      "  glob_data1 = pd.read_csv(\"glob_data.txt\", skiprows = 72, nrows = 157, delim_whitespace = True, header = None)\n",
      "/tmp/ipykernel_923621/3215036355.py:19: FutureWarning: The 'delim_whitespace' keyword in pd.read_csv is deprecated and will be removed in a future version. Use ``sep='\\s+'`` instead\n",
      "  glob_data2 = pd.read_csv(\"glob_data.txt\", skiprows = 252, nrows = 157, delim_whitespace = True, header = None)\n",
      "/tmp/ipykernel_923621/3215036355.py:20: FutureWarning: The 'delim_whitespace' keyword in pd.read_csv is deprecated and will be removed in a future version. Use ``sep='\\s+'`` instead\n",
      "  glob_data3 = pd.read_csv(\"glob_data.txt\", skiprows = 433, nrows = 157, delim_whitespace = True, header = None)\n",
      "/tmp/ipykernel_923621/3215036355.py:34: FutureWarning: DataFrame.applymap has been deprecated. Use DataFrame.map instead.\n",
      "  open_data = open_data.applymap(lambda x: x.strip() if isinstance(x, str) else x)  # Remove leading/trailing spaces\n"
     ]
    }
   ],
   "source": [
    "def get_angular_size(r_h):\n",
    "\t'''Go  from half light radius to true radius, based on King (1966) model for half light radius.\n",
    "\tTakes half light radius, in arcmin, and multiply by 2.5 to get angular radius.\n",
    "\tMultiply by 2 again to get angular diameter (angular size)\n",
    "\t'''\n",
    "\treturn 2.5 * r_h * 2\n",
    "\n",
    "\n",
    "def get_true_diameter(angular_size, dist):\n",
    "\t'''Takes angular size, in arcmin, and distance from Sun, in pc,\n",
    "\tCalculates true diameter (in pc)\n",
    "\t'''\n",
    "\tdiam_rad = angular_size * (2.9089 * 10**-4) # 2.9089 * 10^-4 rad = 1 arcmin\n",
    "\treturn diam_rad * dist \n",
    "\n",
    "\n",
    "# GLOBULAR CLUSTER DATA READING\n",
    "glob_data1 = pd.read_csv(\"glob_data.txt\", skiprows = 72, nrows = 157, delim_whitespace = True, header = None)\n",
    "glob_data2 = pd.read_csv(\"glob_data.txt\", skiprows = 252, nrows = 157, delim_whitespace = True, header = None)\n",
    "glob_data3 = pd.read_csv(\"glob_data.txt\", skiprows = 433, nrows = 157, delim_whitespace = True, header = None)\n",
    "\n",
    "# Combining the first two columns because the names were split\n",
    "glob_data1[\"Cname\"] = glob_data1.iloc[:,0] + glob_data1.iloc[:,1].astype(str)\n",
    "\n",
    "\n",
    "glob_data = pd.concat([glob_data1[\"Cname\"], glob_data1.iloc[:,4:10], glob_data1.iloc[:,10], glob_data2.iloc[:,4], glob_data3.iloc[:,9]], axis = 1)\n",
    "glob_data.columns = [\"Cname\", \"RA1\", \"RA2\",\"RA3\", \"Dec1\", \"Dec2\", \"Dec3\", \"R_sun\", \"E(B-V)\",\"r_h\" ]\n",
    "glob_data = glob_data.dropna()\n",
    "\n",
    "# OPEN CLUSTER DATA READING\n",
    "open_data = pd.read_csv(\"open_data.tsv\", skiprows = 39, delimiter = \"\\t\", header = None)\n",
    "\n",
    "# Code generated by ChatGPT-4o (OpenAI, 2024) - November 2024 version, Prompt: \"I have too many whitespace missing values in my dataset, how do I remove them?\"\n",
    "open_data = open_data.applymap(lambda x: x.strip() if isinstance(x, str) else x)  # Remove leading/trailing spaces\n",
    "open_data.replace('', pd.NA, inplace=True)  # Replace empty strings with NaN\n",
    "open_data = open_data.dropna()\n",
    "\n",
    "open_data.columns = [\"RA\", \"Dec\", \"Diam\", \"Dist\", \"Age (log years)\", \"Metallicity\", \"E(B-V)\", \"Cname\", \"_RA.icrs\", \"_DE.icrs\"]\n",
    "\n",
    "print(\"Globular Data\",\"\\n\")\n",
    "print(glob_data.head())\n",
    "\n",
    "print(\"Open Data\", \"\\n\")\n",
    "print(open_data)"
   ]
  },
  {
   "cell_type": "markdown",
   "id": "726311ae-2a55-48c6-8496-3374342ecbc8",
   "metadata": {},
   "source": [
    "### Clean Data and Change Types"
   ]
  },
  {
   "cell_type": "code",
   "execution_count": 4,
   "id": "76d6fd7c-75d9-4f17-accb-295aed6f8177",
   "metadata": {},
   "outputs": [],
   "source": [
    "# Change open_data variables from objects\n",
    "open_data['Diam'] = pd.to_numeric(open_data['Diam'], errors = \"coerce\")\n",
    "open_data['Dist'] = pd.to_numeric(open_data['Dist'], errors = \"coerce\")\n",
    "\n",
    "# Mask out negatives from glob_data\n",
    "glob_data = glob_data.mask(glob_data['r_h'] < 0)"
   ]
  },
  {
   "cell_type": "markdown",
   "id": "c42f13bc-a513-449d-a387-b3ac697bab14",
   "metadata": {},
   "source": [
    "### Calculate the True Diameter (in parsecs)"
   ]
  },
  {
   "cell_type": "code",
   "execution_count": 5,
   "id": "42054f02-92fc-4559-a437-608c6c322af8",
   "metadata": {},
   "outputs": [],
   "source": [
    "# glob_data true diameter\n",
    "glob_data['true diam'] = get_true_diameter(get_angular_size(glob_data['r_h']), 1000 * glob_data['R_sun'])\n",
    "\n",
    "# open_data true diameter\n",
    "open_data['true diam'] = get_true_diameter(open_data['Diam'], open_data['Dist'])"
   ]
  },
  {
   "cell_type": "markdown",
   "id": "d9791416-a655-4e79-9b7c-7d3631f71d31",
   "metadata": {},
   "source": [
    "### Combine Datasets"
   ]
  },
  {
   "cell_type": "code",
   "execution_count": 6,
   "id": "d67ecfee-1f7e-448f-af39-78556f8ed59e",
   "metadata": {},
   "outputs": [],
   "source": [
    "# Add cluster_type column\n",
    "glob_data['cluster_type'] = 1 #making globular clusters equal to one\n",
    "open_data['cluster_type'] = 0 #making open clusters equal to zero\n",
    "\n",
    "# Drop unwanted columns\n",
    "glob_data_dropped = glob_data.drop(columns = ['Cname', 'RA1', 'RA2', 'RA3', 'Dec1', 'Dec2', 'Dec3', 'R_sun', 'r_h'])\n",
    "open_data_dropped = open_data.drop(columns = ['RA', 'Dec', 'Diam', 'Dist', 'Age (log years)', 'Metallicity', 'Cname', '_RA.icrs', '_DE.icrs'])\n",
    "\n",
    "# Rename diameter columns \n",
    "glob_data_dropped.rename(columns = {'true diam': 'diameter (pc)'}, inplace = True)\n",
    "open_data_dropped.rename(columns = {'true diam': 'diameter (pc)'}, inplace = True)\n",
    "\n",
    "# Combine datasets\n",
    "clusters_df = pd.concat([glob_data_dropped, open_data_dropped])\n",
    "\n",
    "# Drop extreme values\n",
    "clusters_df = clusters_df.mask((clusters_df['diameter (pc)'] > 1000))\n",
    "\n",
    "# Drops Nans\n",
    "clusters_df = clusters_df.dropna()"
   ]
  },
  {
   "cell_type": "markdown",
   "id": "bca2f0ee-21e1-4f07-8129-3fc5335e68e6",
   "metadata": {},
   "source": [
    "### More Dataset Maintenance "
   ]
  },
  {
   "cell_type": "code",
   "execution_count": 7,
   "id": "06e041b0-b0c6-4a35-87bc-83e9655fe337",
   "metadata": {},
   "outputs": [
    {
     "name": "stdout",
     "output_type": "stream",
     "text": [
      "E(B-V)           0\n",
      "diameter (pc)    0\n",
      "cluster_type     0\n",
      "dtype: int64\n",
      "E(B-V)           0\n",
      "diameter (pc)    0\n",
      "cluster_type     0\n",
      "dtype: int64\n",
      "0        20.747729\n",
      "1        28.866469\n",
      "2        10.256781\n",
      "4        70.885530\n",
      "5        56.666826\n",
      "6         5.380011\n",
      "7      1268.425845\n",
      "8       160.617822\n",
      "9         8.975411\n",
      "10       12.195563\n",
      "11       45.553374\n",
      "12      106.922437\n",
      "15       11.170176\n",
      "17        1.345366\n",
      "18       22.093096\n",
      "19       17.390859\n",
      "21       13.474025\n",
      "22       17.377769\n",
      "23       33.917774\n",
      "24       22.621061\n",
      "25       28.798110\n",
      "26       34.105398\n",
      "27       66.052392\n",
      "28       37.815700\n",
      "29       34.269751\n",
      "30       12.422457\n",
      "32       53.523760\n",
      "33      133.047268\n",
      "34       20.362300\n",
      "35       46.757659\n",
      "36       21.009530\n",
      "37       92.119045\n",
      "38       27.816356\n",
      "39       19.307824\n",
      "40       45.804994\n",
      "41       13.721281\n",
      "43       51.580615\n",
      "45      135.743819\n",
      "46        8.872145\n",
      "47       13.855091\n",
      "48       36.957575\n",
      "49       29.902038\n",
      "50       68.602043\n",
      "51       21.706212\n",
      "52       16.103670\n",
      "54       17.451946\n",
      "55      157.036967\n",
      "56       12.357007\n",
      "58       49.676740\n",
      "59       12.479181\n",
      "60       12.883518\n",
      "61             NaN\n",
      "62        9.099039\n",
      "63       50.940657\n",
      "64       14.687036\n",
      "65       51.679517\n",
      "66       12.297375\n",
      "67       38.529835\n",
      "68       63.984164\n",
      "69       12.313374\n",
      "70        7.147167\n",
      "71       43.432786\n",
      "72        9.024862\n",
      "73       83.017097\n",
      "74       67.439938\n",
      "75       25.819396\n",
      "77       53.014703\n",
      "78       14.864479\n",
      "80       51.641702\n",
      "81       22.660331\n",
      "82       78.953364\n",
      "83       59.133574\n",
      "84       37.517538\n",
      "85       33.990497\n",
      "86        7.487509\n",
      "87       45.448654\n",
      "88       58.431074\n",
      "89        9.701182\n",
      "90       29.187903\n",
      "91       74.005325\n",
      "92       53.401586\n",
      "93       51.583524\n",
      "94       64.781203\n",
      "95        9.616823\n",
      "96       57.660216\n",
      "97       83.514519\n",
      "98       82.362595\n",
      "99       32.706217\n",
      "100      45.643550\n",
      "102      81.556829\n",
      "104      11.199265\n",
      "105       8.406721\n",
      "106      54.808039\n",
      "107      47.080547\n",
      "108      41.626359\n",
      "109      26.441901\n",
      "110      11.562878\n",
      "113      33.510528\n",
      "115      23.140300\n",
      "116      21.834203\n",
      "117      23.736624\n",
      "118      57.548223\n",
      "121      65.384800\n",
      "122       9.421927\n",
      "123      15.758966\n",
      "124      55.917785\n",
      "125      49.148774\n",
      "126      54.664049\n",
      "127      65.159360\n",
      "128      15.638246\n",
      "129      43.563686\n",
      "130       9.293935\n",
      "132      13.347488\n",
      "133      31.605199\n",
      "134      47.295805\n",
      "135      35.303865\n",
      "136      37.917512\n",
      "137      11.111998\n",
      "138      41.867798\n",
      "139      15.039013\n",
      "140      54.053180\n",
      "141      30.120205\n",
      "142            NaN\n",
      "143      22.226905\n",
      "144      20.273579\n",
      "145      44.631253\n",
      "146       9.715726\n",
      "147      13.983082\n",
      "148      15.655700\n",
      "149      58.847047\n",
      "150     154.602217\n",
      "151      15.126280\n",
      "152      17.729746\n",
      "153      12.134476\n",
      "154     100.589762\n",
      "155      13.613652\n",
      "156      43.989840\n",
      "Name: true diam, dtype: float64\n",
      "Cname           2\n",
      "RA1             2\n",
      "RA2             2\n",
      "RA3             2\n",
      "Dec1            2\n",
      "Dec2            2\n",
      "Dec3            2\n",
      "R_sun           2\n",
      "E(B-V)          2\n",
      "r_h             2\n",
      "true diam       2\n",
      "cluster_type    0\n",
      "dtype: int64\n"
     ]
    }
   ],
   "source": [
    "# Make sure there are no objects\n",
    "clusters_df = clusters_df.apply(pd.to_numeric, errors = 'raise')\n",
    "\n",
    "# Checking for infinite or nans\n",
    "print(clusters_df.isna().sum())\n",
    "\n",
    "print(np.isinf(clusters_df).sum())\n",
    "\n",
    "pd.set_option('display.max_rows', None)\n",
    "\n",
    "#print(cluster_df['diameter']\n",
    "print(glob_data['true diam'])\n",
    "print(glob_data.isna().sum())"
   ]
  },
  {
   "cell_type": "markdown",
   "id": "5da1a45e-b8e0-49b8-8d37-19fd0a1ae0a6",
   "metadata": {
    "jp-MarkdownHeadingCollapsed": true
   },
   "source": [
    "## Ploting The Data"
   ]
  },
  {
   "cell_type": "code",
   "execution_count": 8,
   "id": "d6493f16-c711-4d2a-bc5a-d1832761afcf",
   "metadata": {},
   "outputs": [
    {
     "name": "stderr",
     "output_type": "stream",
     "text": [
      "/tmp/ipykernel_923621/62755807.py:11: UserWarning: No artists with labels found to put in legend.  Note that artists whose label start with an underscore are ignored when legend() is called with no argument.\n",
      "  plt.legend()\n"
     ]
    },
    {
     "data": {
      "text/plain": [
       "<matplotlib.legend.Legend at 0x7fbcf9dd8910>"
      ]
     },
     "execution_count": 8,
     "metadata": {},
     "output_type": "execute_result"
    },
    {
     "data": {
      "image/png": "[encoded data removed]",
      "text/plain": [
       "<Figure size 640x480 with 1 Axes>"
      ]
     },
     "metadata": {},
     "output_type": "display_data"
    }
   ],
   "source": [
    "# Calculate z-values\n",
    "z_values = (clusters_df['E(B-V)'])**2 + (clusters_df['diameter (pc)'])**2\n",
    "\n",
    "# Plot\n",
    "fig = plt.figure()\n",
    "ax = fig.add_subplot(projection = '3d')\n",
    "ax.scatter3D(clusters_df['E(B-V)'], clusters_df['diameter (pc)'], z_values, c = clusters_df['cluster_type'])\n",
    "plt.title('Star Clusters')\n",
    "plt.xlabel('E(B-V)')\n",
    "plt.ylabel('True Diameter (pc)')\n",
    "plt.legend()"
   ]
  },
  {
   "cell_type": "markdown",
   "id": "7673e30f-e502-404a-8a13-336106646035",
   "metadata": {
    "jp-MarkdownHeadingCollapsed": true
   },
   "source": [
    "## Logistic Regression"
   ]
  },
  {
   "cell_type": "markdown",
   "id": "7b8b4c4d-6220-42dc-8587-90e31de451b7",
   "metadata": {},
   "source": [
    "### Create and Run Model"
   ]
  },
  {
   "cell_type": "code",
   "execution_count": 9,
   "id": "9a269042-830b-4cbb-b223-ca621a5fff4c",
   "metadata": {},
   "outputs": [
    {
     "name": "stdout",
     "output_type": "stream",
     "text": [
      "Optimization terminated successfully.\n",
      "         Current function value: 0.172415\n",
      "         Iterations 11\n",
      "                           Logit Regression Results                           \n",
      "==============================================================================\n",
      "Dep. Variable:           cluster_type   No. Observations:                  159\n",
      "Model:                          Logit   Df Residuals:                      156\n",
      "Method:                           MLE   Df Model:                            2\n",
      "Date:                Fri, 15 Nov 2024   Pseudo R-squ.:                  0.7326\n",
      "Time:                        13:10:17   Log-Likelihood:                -27.414\n",
      "converged:                       True   LL-Null:                       -102.54\n",
      "Covariance Type:            nonrobust   LLR p-value:                 2.371e-33\n",
      "=================================================================================\n",
      "                    coef    std err          z      P>|z|      [0.025      0.975]\n",
      "---------------------------------------------------------------------------------\n",
      "const            -7.2803      1.594     -4.569      0.000     -10.404      -4.157\n",
      "E(B-V)            4.5382      1.929      2.352      0.019       0.757       8.320\n",
      "diameter (pc)     0.6369      0.139      4.583      0.000       0.364       0.909\n",
      "=================================================================================\n",
      "\n",
      "Possibly complete quasi-separation: A fraction 0.38 of observations can be\n",
      "perfectly predicted. This might indicate that there is complete\n",
      "quasi-separation. In this case some parameters will not be identified.\n"
     ]
    }
   ],
   "source": [
    "# Creating features and labels to train model\n",
    "clust = clusters_df\n",
    "features = clust.iloc[:,0:2]\n",
    "label = clust['cluster_type']\n",
    "\n",
    "# Defining model\n",
    "train_vectors, test_vectors, train_labels, test_labels = sk.model_selection.train_test_split(features, label, test_size = 0.25, train_size = 0.75, random_state = 0)\n",
    "\n",
    "# Training model\n",
    "logit_model = sm.Logit(train_labels, sm.add_constant(train_vectors))\n",
    "result = logit_model.fit()\n",
    "print(result.summary())"
   ]
  },
  {
   "cell_type": "markdown",
   "id": "e55f9f1f-47d9-422a-8d77-5586edf665b9",
   "metadata": {},
   "source": [
    "### Prediction and Accuracy"
   ]
  },
  {
   "cell_type": "code",
   "execution_count": 10,
   "id": "7ed80364-b0ea-4533-babc-46421411d873",
   "metadata": {},
   "outputs": [],
   "source": [
    "# Predict data\n",
    "prediction = result.predict(sm.add_constant(test_vectors))\n",
    "\n",
    "# Accuracy of prediction\n",
    "#accuracy = accuracy_score(test_labels, prediction)\n",
    "#print(f'Accuracy: {accuracy}')"
   ]
  }
 ],
 "metadata": {
  "kernelspec": {
   "display_name": "Python 3.11 (default)",
   "language": "python",
   "name": "python3"
  },
  "language_info": {
   "codemirror_mode": {
    "name": "ipython",
    "version": 3
   },
   "file_extension": ".py",
   "mimetype": "text/x-python",
   "name": "python",
   "nbconvert_exporter": "python",
   "pygments_lexer": "ipython3",
   "version": "3.11.9"
  }
 },
 "nbformat": 4,
 "nbformat_minor": 5
}
